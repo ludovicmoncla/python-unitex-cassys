{
 "cells": [
  {
   "cell_type": "code",
   "execution_count": 13,
   "metadata": {},
   "outputs": [],
   "source": [
    "import os\n",
    "from scripts.Unitex import Unitex\n",
    "from scripts.posTagger_to_unitex import spacy2unitex\n",
    "import spacy\n",
    "from bs4 import BeautifulSoup"
   ]
  },
  {
   "cell_type": "code",
   "execution_count": 14,
   "metadata": {},
   "outputs": [],
   "source": [
    "# pip install -U spacy\n",
    "#!python -m spacy download en_core_web_sm\n",
    "#!python -m spacy download fr_core_news_sm"
   ]
  },
  {
   "attachments": {},
   "cell_type": "markdown",
   "metadata": {},
   "source": [
    "## Create Unitex input txt file from spaCy doc"
   ]
  },
  {
   "cell_type": "code",
   "execution_count": 36,
   "metadata": {},
   "outputs": [
    {
     "name": "stdout",
     "output_type": "stream",
     "text": [
      "{Mark,mark.VERB} {your,your.PRON} {calendars,calendar.NOUN} {for,for.ADP} {an,an.DET} {exciting,exciting.ADJ} {event,event.NOUN} {at,at.ADP} {35,35.NUM} {Charles,Charles.PROPN} {Street,Street.PROPN} {\\,,.PUNCT} {London,London.PROPN} {\\,,.PUNCT} {on,on.ADP} {the,the.DET} {29th,29th.NOUN} {of,of.ADP} {June,June.PROPN} {2023,2023.NUM} {.,.PUNCT} \n"
     ]
    }
   ],
   "source": [
    "# Load French tokenizer, tagger, parser and NER\n",
    "nlp = spacy.load(\"en_core_web_sm\")\n",
    "\n",
    "# Process whole documents\n",
    "text = (\"Mark your calendars for an exciting event at 35 Charles Street, London, on the 3rd of June 2023.\")\n",
    "doc = nlp(text)\n",
    "\n",
    "unitex_input = spacy2unitex(doc)\n",
    "print(unitex_input)\n",
    "filename = 'tmp'\n",
    "filepath = os.path.join('output', filename + '.txt')    \n",
    "with open(filepath, 'w') as f:\n",
    "    f.write(unitex_input)\n"
   ]
  },
  {
   "attachments": {},
   "cell_type": "markdown",
   "metadata": {},
   "source": [
    "## Run Unitex as a Python code snippet"
   ]
  },
  {
   "cell_type": "code",
   "execution_count": 37,
   "metadata": {},
   "outputs": [],
   "source": [
    "version = \"Tutorial\"\n",
    "lang = 'English'\n",
    "install_path = \"/Users/lmoncla/Nextcloud-LIRIS/Programmes/Unitex-GramLab-3.2\"\n",
    "install_path_app = \"/Users/lmoncla/Programmes/Unitex-GramLab-3.2/App\"\n",
    "filepath = os.path.join('output', filename)\n",
    "\n",
    "delete_tmp_files = True\n",
    "\n",
    "unitex = Unitex(version, lang, install_path, install_path_app, delete_tmp_files)\n",
    "doc = unitex.run(filepath)\n"
   ]
  },
  {
   "cell_type": "code",
   "execution_count": 38,
   "metadata": {},
   "outputs": [
    {
     "data": {
      "text/plain": [
       "'<?xml version=\\'1.0\\' encoding=\\'utf-8\\'?><doc><w pos=\"VERB\" lemma=\"mark\">Mark</w> <w pos=\"PRON\" lemma=\"your\">your</w> <w pos=\"NOUN\" lemma=\"calendar\">calendars</w> <w pos=\"ADP\" lemma=\"for\">for</w> <w pos=\"DET\" lemma=\"an\">an</w> <w pos=\"ADJ\" lemma=\"exciting\">exciting</w> <w pos=\"NOUN\" lemma=\"event\">event</w> <w pos=\"ADP\" lemma=\"at\">at</w> <address><w pos=\"NUM\" lemma=\"35\">35</w> <w pos=\"PROPN\" lemma=\"Charles\">Charles</w> <w pos=\"PROPN\" lemma=\"Street\">Street</w> <w pos=\"PUNCT\">,</w> <w pos=\"PROPN\" lemma=\"London\">London</w></address> <w pos=\"PUNCT\">,</w> <w pos=\"ADP\" lemma=\"on\">on</w> <w pos=\"DET\" lemma=\"the\">the</w> <date><w pos=\"NOUN\" lemma=\"29th\">29th</w> <w pos=\"ADP\" lemma=\"of\">of</w> <w pos=\"PROPN\" lemma=\"June\">June</w> <w pos=\"NUM\" lemma=\"2023\">2023</w></date> <w pos=\"PUNCT\">.</w> </doc>'"
      ]
     },
     "execution_count": 38,
     "metadata": {},
     "output_type": "execute_result"
    }
   ],
   "source": [
    "doc"
   ]
  },
  {
   "attachments": {},
   "cell_type": "markdown",
   "metadata": {},
   "source": [
    "## Parse the XML result"
   ]
  },
  {
   "cell_type": "code",
   "execution_count": 39,
   "metadata": {},
   "outputs": [
    {
     "name": "stdout",
     "output_type": "stream",
     "text": [
      "<?xml version=\"1.0\" encoding=\"utf-8\"?>\n",
      "<doc>\n",
      " <w lemma=\"mark\" pos=\"VERB\">\n",
      "  Mark\n",
      " </w>\n",
      " <w lemma=\"your\" pos=\"PRON\">\n",
      "  your\n",
      " </w>\n",
      " <w lemma=\"calendar\" pos=\"NOUN\">\n",
      "  calendars\n",
      " </w>\n",
      " <w lemma=\"for\" pos=\"ADP\">\n",
      "  for\n",
      " </w>\n",
      " <w lemma=\"an\" pos=\"DET\">\n",
      "  an\n",
      " </w>\n",
      " <w lemma=\"exciting\" pos=\"ADJ\">\n",
      "  exciting\n",
      " </w>\n",
      " <w lemma=\"event\" pos=\"NOUN\">\n",
      "  event\n",
      " </w>\n",
      " <w lemma=\"at\" pos=\"ADP\">\n",
      "  at\n",
      " </w>\n",
      " <address>\n",
      "  <w lemma=\"35\" pos=\"NUM\">\n",
      "   35\n",
      "  </w>\n",
      "  <w lemma=\"Charles\" pos=\"PROPN\">\n",
      "   Charles\n",
      "  </w>\n",
      "  <w lemma=\"Street\" pos=\"PROPN\">\n",
      "   Street\n",
      "  </w>\n",
      "  <w pos=\"PUNCT\">\n",
      "   ,\n",
      "  </w>\n",
      "  <w lemma=\"London\" pos=\"PROPN\">\n",
      "   London\n",
      "  </w>\n",
      " </address>\n",
      " <w pos=\"PUNCT\">\n",
      "  ,\n",
      " </w>\n",
      " <w lemma=\"on\" pos=\"ADP\">\n",
      "  on\n",
      " </w>\n",
      " <w lemma=\"the\" pos=\"DET\">\n",
      "  the\n",
      " </w>\n",
      " <date>\n",
      "  <w lemma=\"29th\" pos=\"NOUN\">\n",
      "   29th\n",
      "  </w>\n",
      "  <w lemma=\"of\" pos=\"ADP\">\n",
      "   of\n",
      "  </w>\n",
      "  <w lemma=\"June\" pos=\"PROPN\">\n",
      "   June\n",
      "  </w>\n",
      "  <w lemma=\"2023\" pos=\"NUM\">\n",
      "   2023\n",
      "  </w>\n",
      " </date>\n",
      " <w pos=\"PUNCT\">\n",
      "  .\n",
      " </w>\n",
      "</doc>\n"
     ]
    }
   ],
   "source": [
    "root = BeautifulSoup(doc, 'xml')\n",
    "print(root.prettify())"
   ]
  },
  {
   "cell_type": "code",
   "execution_count": 40,
   "metadata": {},
   "outputs": [
    {
     "name": "stdout",
     "output_type": "stream",
     "text": [
      "text: Mark your calendars for an exciting event at 35 Charles Street, London, on the 29th of June 2023.\n",
      "adress: 35 Charles Street , London date: 29th of June 2023 \n"
     ]
    }
   ],
   "source": [
    "print('text:', text)\n",
    "\n",
    "for element in root.find_all('address'):\n",
    "    print('adress:', end=' ')\n",
    "    for w in element.find_all('w'):\n",
    "        print(w.string, end=' ')\n",
    "\n",
    "for element in root.find_all('date'):\n",
    "    print('date:', end=' ')\n",
    "    for w in element.find_all('w'):\n",
    "        print(w.string, end=' ')\n",
    "print()"
   ]
  },
  {
   "attachments": {},
   "cell_type": "markdown",
   "metadata": {},
   "source": [
    "## Run `Unitex.py` as a Python script"
   ]
  },
  {
   "cell_type": "code",
   "execution_count": 28,
   "metadata": {},
   "outputs": [],
   "source": [
    "version = \"Tutorial\"\n",
    "lang = 'English'\n",
    "install_path = \"/Users/lmoncla/Nextcloud-LIRIS/Programmes/Unitex-GramLab-3.2\"\n",
    "install_path_app = \"/Users/lmoncla/Programmes/Unitex-GramLab-3.2/App\"\n",
    "filepath = os.path.join('output', filename)\n",
    "\n",
    "!python scripts/Unitex.py -i $filepath -l $lang -c $version --install_path $install_path --install_path_app $install_path_app\n",
    "\n",
    "with open(filepath + \"_csc_csc.xml\", \"r\") as file:\n",
    "    doc = file.read()\n"
   ]
  },
  {
   "cell_type": "code",
   "execution_count": null,
   "metadata": {},
   "outputs": [],
   "source": []
  }
 ],
 "metadata": {
  "kernelspec": {
   "display_name": "stanza-lexicoscope-py39",
   "language": "python",
   "name": "python3"
  },
  "language_info": {
   "codemirror_mode": {
    "name": "ipython",
    "version": 3
   },
   "file_extension": ".py",
   "mimetype": "text/x-python",
   "name": "python",
   "nbconvert_exporter": "python",
   "pygments_lexer": "ipython3",
   "version": "3.9.16"
  },
  "orig_nbformat": 4
 },
 "nbformat": 4,
 "nbformat_minor": 2
}
