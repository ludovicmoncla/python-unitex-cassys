{
 "cells": [
  {
   "attachments": {},
   "cell_type": "markdown",
   "metadata": {},
   "source": [
    "# Demonstration: Running Unitex CasSys cascades with Python\n",
    "\n",
    "The Unitex/Gramlab program should be installed: https://unitexgramlab.org/.\n",
    "\n",
    "This notebook shows how to use the Python code available in this repository to execute Unitex CasSys cascades for annotating texts. \n",
    "The `Tutorial` CasSys cascade provided in the [Tutorial_CasSys+Graphs.zip](https://github.com/ludovicmoncla/python-unitex-cassys/tree/main/Unitex-CasSys) folder is used as an example. It illustrates how dates and addresses can be annotated and parsed.\n",
    "\n",
    "In the current version, [spaCy](https://spacy.io) should be installed in your Python environment for the POS tagging preprocessing step. \n",
    "Functions for converting output from other tools such as Treetagger and Stanza will be available soon."
   ]
  },
  {
   "attachments": {},
   "cell_type": "markdown",
   "metadata": {},
   "source": [
    "## Import Python libraries"
   ]
  },
  {
   "cell_type": "code",
   "execution_count": null,
   "metadata": {},
   "outputs": [],
   "source": [
    "import os\n",
    "import spacy\n",
    "from bs4 import BeautifulSoup\n",
    "\n",
    "from scripts.Unitex import Unitex\n",
    "from scripts.posTagger_to_unitex import spacy2unitex"
   ]
  },
  {
   "cell_type": "code",
   "execution_count": null,
   "metadata": {},
   "outputs": [],
   "source": [
    "# pip install -U spacy\n",
    "#!python -m spacy download en_core_web_sm\n",
    "#!python -m spacy download fr_core_news_sm"
   ]
  },
  {
   "attachments": {},
   "cell_type": "markdown",
   "metadata": {},
   "source": [
    "## Run spaCy POS tagger and create the Unitex compliant input txt file"
   ]
  },
  {
   "cell_type": "code",
   "execution_count": null,
   "metadata": {},
   "outputs": [],
   "source": [
    "text = (\"Mark your calendars for an exciting event at 35 Charles Street, London, on the 3rd of June 2023.\")\n",
    "\n",
    "# load the spaCy model\n",
    "nlp = spacy.load(\"en_core_web_sm\")\n",
    "\n",
    "# run spaCY\n",
    "doc = nlp(text)\n",
    "\n",
    "# convert the output to Unitex format\n",
    "unitex_input = spacy2unitex(doc)\n",
    "\n",
    "# show the result\n",
    "print(unitex_input)\n",
    "\n",
    "# save the txt file on disk\n",
    "filename = 'tmp'\n",
    "filepath = os.path.join('output', filename + '.txt')\n",
    "with open(filepath, 'w') as f:\n",
    "    f.write(unitex_input)"
   ]
  },
  {
   "attachments": {},
   "cell_type": "markdown",
   "metadata": {},
   "source": [
    "## Run Unitex as a Python code snippet"
   ]
  },
  {
   "cell_type": "code",
   "execution_count": null,
   "metadata": {},
   "outputs": [],
   "source": [
    "# configuration\n",
    "version = \"Tutorial\"    # name of the directory in '{unitex-directory}/{language}/CasSys/' and '{unitex-directory}/{language}/Graphs/'\n",
    "lang = 'English'        # name of the language directory in '{unitex-directory}/'\n",
    "\n",
    "install_path = \"{replace by your Unitex/GramLab personal working directory}\"     # Unitex/GramLab personal working directory (containing language directories and cascades and graphs)\n",
    "install_path_app = \"{replace by your Unitex/GramLab installation directory}/App\" # Unitex/GramLab installation directory (containing the App directory)\n",
    "delete_tmp_files = True\n",
    "\n",
    "# filepath of the input file (without extension), the script will produce a file with the same name in the same directory)\n",
    "filepath = os.path.join('output', filename)\n",
    "\n",
    "# run Unitex CasSys cascades\n",
    "unitex = Unitex(version, lang, install_path, install_path_app, delete_tmp_files)\n",
    "doc = unitex.run(filepath)\n",
    "\n",
    "# show the result\n",
    "print(doc)"
   ]
  },
  {
   "attachments": {},
   "cell_type": "markdown",
   "metadata": {},
   "source": [
    "## Parse the XML result"
   ]
  },
  {
   "attachments": {},
   "cell_type": "markdown",
   "metadata": {},
   "source": [
    "The CasSys cascades add annotations on the text stored in XML format. \n",
    "This section shows how you can parse the XML with Python (using the [BeautifulSoup library](https://www.crummy.com/software/BeautifulSoup/bs4/doc/)).\n",
    "\n",
    "In this tutorial, the `address` graph (see figure below) adds the tag `address` when it matches a specific pattern. \n",
    "![alt](https://github.com/ludovicmoncla/python-unitex-cassys/blob/be6f59cd5b82aeb6e4e64fe221fa48a8836f8cb7/Unitex-CasSys/img/Tutorial_address_graph.png?raw=true)\n",
    "\n",
    "The `synthesis` cascade transforms the output of the `analysis` cascade into a valid XML markup language following the annotation tagset defined in the analysis cascade. In this case this annotation will produce \\<address\\> elements.\n",
    "\n",
    "Thus, once the XML output is produced you can look for all the XML element named `address` and get their content. As a remainder, every token is annotated with its `pos` and `lemma` in a \\<w\\> element.\n",
    "\n"
   ]
  },
  {
   "cell_type": "code",
   "execution_count": null,
   "metadata": {},
   "outputs": [],
   "source": [
    "# convert the string output to XML object (with the BeautifulSoup library)\n",
    "root = BeautifulSoup(doc, 'xml')\n",
    "\n",
    "# show the XML content\n",
    "print(root.prettify())"
   ]
  },
  {
   "cell_type": "code",
   "execution_count": null,
   "metadata": {},
   "outputs": [],
   "source": [
    "# get the values of the elements within the root element and having the name given in the tag argument\n",
    "def get_element_values(root, tag):\n",
    "    values = []\n",
    "    for element in root.find_all(tag):\n",
    "        content = ''\n",
    "        # get the string content of all <w> elements within the current element\n",
    "        for w in element.find_all('w'):\n",
    "            content += w.string\n",
    "        values.append(content.trim())\n",
    "    return values\n",
    "\n",
    "print('text:', text)\n",
    "# print the values of date and address elements in the XML output (if any)\n",
    "print(\"dates:\", get_element_values(root, 'date'))\n",
    "print(\"address:\", get_element_values(root, 'address'))\n"
   ]
  },
  {
   "attachments": {},
   "cell_type": "markdown",
   "metadata": {},
   "source": [
    "## Run `Unitex.py` as a Python script"
   ]
  },
  {
   "cell_type": "code",
   "execution_count": null,
   "metadata": {},
   "outputs": [],
   "source": [
    "version = \"Tutorial\"\n",
    "lang = 'English'\n",
    "install_path = \"/Users/lmoncla/Nextcloud-LIRIS/Programmes/Unitex-GramLab-3.2\"\n",
    "install_path_app = \"/Users/lmoncla/Programmes/Unitex-GramLab-3.2/App\"\n",
    "filepath = os.path.join('output', filename)\n",
    "\n",
    "!python scripts/Unitex.py -i $filepath -l $lang -c $version --install_path $install_path --install_path_app $install_path_app\n",
    "\n",
    "with open(filepath + \"_csc_csc.xml\", \"r\") as file:\n",
    "    doc = file.read()\n"
   ]
  },
  {
   "cell_type": "code",
   "execution_count": null,
   "metadata": {},
   "outputs": [],
   "source": []
  }
 ],
 "metadata": {
  "kernelspec": {
   "display_name": "stanza-lexicoscope-py39",
   "language": "python",
   "name": "python3"
  },
  "language_info": {
   "codemirror_mode": {
    "name": "ipython",
    "version": 3
   },
   "file_extension": ".py",
   "mimetype": "text/x-python",
   "name": "python",
   "nbconvert_exporter": "python",
   "pygments_lexer": "ipython3",
   "version": "3.9.16"
  },
  "orig_nbformat": 4
 },
 "nbformat": 4,
 "nbformat_minor": 2
}
