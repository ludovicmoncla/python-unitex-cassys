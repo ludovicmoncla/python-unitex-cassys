{
 "cells": [
  {
   "cell_type": "code",
   "execution_count": 1,
   "metadata": {},
   "outputs": [],
   "source": [
    "import os\n",
    "from scripts.Unitex import Unitex\n",
    "from scripts.posTagger_to_unitex import spacy2unitex\n",
    "# pip install -U spacy\n",
    "# python -m spacy download en_core_web_sm\n",
    "# python -m spacy download fr_core_news_sm\n",
    "import spacy"
   ]
  },
  {
   "attachments": {},
   "cell_type": "markdown",
   "metadata": {},
   "source": [
    "## Create Unitex input txt file from spaCy doc"
   ]
  },
  {
   "cell_type": "code",
   "execution_count": 2,
   "metadata": {},
   "outputs": [
    {
     "name": "stdout",
     "output_type": "stream",
     "text": [
      "{I,I.PRON} {am,be.AUX} {visiting,visit.VERB} {the,the.DET} {city,city.NOUN} {of,of.ADP} {Zurich,Zurich.PROPN} {.,.PUNCT} \n"
     ]
    }
   ],
   "source": [
    "# Load French tokenizer, tagger, parser and NER\n",
    "nlp = spacy.load(\"en_core_web_sm\")\n",
    "\n",
    "# Process whole documents\n",
    "text = (\"I am visiting the city of Zurich.\")\n",
    "doc = nlp(text)\n",
    "\n",
    "unitex_input = spacy2unitex(doc)\n",
    "print(unitex_input)\n",
    "\n",
    "filepath = os.path.join('output','tmp.txt')    \n",
    "with open(filepath, 'w') as f:\n",
    "    f.write(unitex_input)\n"
   ]
  },
  {
   "attachments": {},
   "cell_type": "markdown",
   "metadata": {},
   "source": [
    "## Run Unitex as a Python code snippet"
   ]
  },
  {
   "cell_type": "code",
   "execution_count": 3,
   "metadata": {},
   "outputs": [],
   "source": [
    "version = \"Landscape_sentiment\"\n",
    "lang = 'English'\n",
    "install_path = \"/Users/lmoncla/Nextcloud-LIRIS/Programmes/Unitex-GramLab-3.2\"\n",
    "install_path_app = \"/Users/lmoncla/Programmes/Unitex-GramLab-3.2/App\"\n",
    "filepath = os.path.join('output', 'tmp')\n",
    "\n",
    "delete_tmp_files = True\n",
    "\n",
    "unitex = Unitex(version, lang, install_path, install_path_app, delete_tmp_files)\n",
    "unitex.run(filepath)\n"
   ]
  },
  {
   "attachments": {},
   "cell_type": "markdown",
   "metadata": {},
   "source": [
    "## Run `Unitex.py` as a Python script"
   ]
  },
  {
   "cell_type": "code",
   "execution_count": 3,
   "metadata": {},
   "outputs": [],
   "source": [
    "version = \"Landscape_sentiment\"\n",
    "lang = 'English'\n",
    "install_path = \"/Users/lmoncla/Nextcloud-LIRIS/Programmes/Unitex-GramLab-3.2\"\n",
    "install_path_app = \"/Users/lmoncla/Programmes/Unitex-GramLab-3.2/App\"\n",
    "filepath = os.path.join('output', 'tmp')\n",
    "\n",
    "!python scripts/Unitex.py -i $filepath -l $lang -c $version --install_path $install_path --install_path_app $install_path_app\n"
   ]
  },
  {
   "cell_type": "code",
   "execution_count": null,
   "metadata": {},
   "outputs": [],
   "source": []
  }
 ],
 "metadata": {
  "kernelspec": {
   "display_name": "stanza-lexicoscope-py39",
   "language": "python",
   "name": "python3"
  },
  "language_info": {
   "codemirror_mode": {
    "name": "ipython",
    "version": 3
   },
   "file_extension": ".py",
   "mimetype": "text/x-python",
   "name": "python",
   "nbconvert_exporter": "python",
   "pygments_lexer": "ipython3",
   "version": "3.9.16"
  },
  "orig_nbformat": 4
 },
 "nbformat": 4,
 "nbformat_minor": 2
}
